{
 "cells": [
  {
   "cell_type": "code",
   "execution_count": 57,
   "metadata": {},
   "outputs": [],
   "source": [
    "import numpy as np\n",
    "import matplotlib.pyplot as plt\n",
    "import pandas as pd\n"
   ]
  },
  {
   "cell_type": "code",
   "execution_count": 58,
   "metadata": {},
   "outputs": [],
   "source": [
    "df = pd.read_csv(\"data/skylab_instagram_datathon_dataset.csv\", sep=\";\")"
   ]
  },
  {
   "cell_type": "code",
   "execution_count": 59,
   "metadata": {},
   "outputs": [
    {
     "data": {
      "text/html": [
       "<div>\n",
       "<style scoped>\n",
       "    .dataframe tbody tr th:only-of-type {\n",
       "        vertical-align: middle;\n",
       "    }\n",
       "\n",
       "    .dataframe tbody tr th {\n",
       "        vertical-align: top;\n",
       "    }\n",
       "\n",
       "    .dataframe thead th {\n",
       "        text-align: right;\n",
       "    }\n",
       "</style>\n",
       "<table border=\"1\" class=\"dataframe\">\n",
       "  <thead>\n",
       "    <tr style=\"text-align: right;\">\n",
       "      <th></th>\n",
       "      <th>period</th>\n",
       "      <th>period_end_date</th>\n",
       "      <th>compset_group</th>\n",
       "      <th>compset</th>\n",
       "      <th>business_entity_doing_business_as_name</th>\n",
       "      <th>legal_entity_name</th>\n",
       "      <th>domicile_country_name</th>\n",
       "      <th>ultimate_parent_legal_entity_name</th>\n",
       "      <th>primary_exchange_name</th>\n",
       "      <th>calculation_type</th>\n",
       "      <th>followers</th>\n",
       "      <th>pictures</th>\n",
       "      <th>videos</th>\n",
       "      <th>comments</th>\n",
       "      <th>likes</th>\n",
       "    </tr>\n",
       "  </thead>\n",
       "  <tbody>\n",
       "    <tr>\n",
       "      <th>0</th>\n",
       "      <td>Weekly</td>\n",
       "      <td>2019-12-07</td>\n",
       "      <td>Luxury &amp; Premium &amp; Mainstream</td>\n",
       "      <td>Soft Luxury</td>\n",
       "      <td>Versace</td>\n",
       "      <td>Capri Holdings</td>\n",
       "      <td>United States of America</td>\n",
       "      <td>Capri Holdings</td>\n",
       "      <td>New York Stock Exchange</td>\n",
       "      <td>Metric Value</td>\n",
       "      <td>22066189.0</td>\n",
       "      <td>97.0</td>\n",
       "      <td>13.0</td>\n",
       "      <td>16239.0</td>\n",
       "      <td>6112205.0</td>\n",
       "    </tr>\n",
       "    <tr>\n",
       "      <th>1</th>\n",
       "      <td>Weekly</td>\n",
       "      <td>2021-01-30</td>\n",
       "      <td>Luxury &amp; Premium &amp; Mainstream</td>\n",
       "      <td>Luxury &amp; Premium &amp; Mainstream</td>\n",
       "      <td>Versace</td>\n",
       "      <td>Capri Holdings</td>\n",
       "      <td>United States of America</td>\n",
       "      <td>Capri Holdings</td>\n",
       "      <td>New York Stock Exchange</td>\n",
       "      <td>Metric Value</td>\n",
       "      <td>24289963.0</td>\n",
       "      <td>54.0</td>\n",
       "      <td>2.0</td>\n",
       "      <td>13358.0</td>\n",
       "      <td>3189144.0</td>\n",
       "    </tr>\n",
       "    <tr>\n",
       "      <th>2</th>\n",
       "      <td>Weekly</td>\n",
       "      <td>2016-05-14</td>\n",
       "      <td>Luxury &amp; Premium &amp; Mainstream</td>\n",
       "      <td>Soft Luxury</td>\n",
       "      <td>Versace</td>\n",
       "      <td>Capri Holdings</td>\n",
       "      <td>United States of America</td>\n",
       "      <td>Capri Holdings</td>\n",
       "      <td>New York Stock Exchange</td>\n",
       "      <td>Metric Value</td>\n",
       "      <td>7137442.0</td>\n",
       "      <td>42.0</td>\n",
       "      <td>8.0</td>\n",
       "      <td>15894.0</td>\n",
       "      <td>2152955.0</td>\n",
       "    </tr>\n",
       "    <tr>\n",
       "      <th>3</th>\n",
       "      <td>Weekly</td>\n",
       "      <td>2019-04-20</td>\n",
       "      <td>Luxury &amp; Premium &amp; Mainstream</td>\n",
       "      <td>Luxury &amp; Premium &amp; Mainstream</td>\n",
       "      <td>Versace</td>\n",
       "      <td>Capri Holdings</td>\n",
       "      <td>United States of America</td>\n",
       "      <td>Capri Holdings</td>\n",
       "      <td>New York Stock Exchange</td>\n",
       "      <td>Metric Value</td>\n",
       "      <td>18901125.0</td>\n",
       "      <td>73.0</td>\n",
       "      <td>9.0</td>\n",
       "      <td>26762.0</td>\n",
       "      <td>5224916.0</td>\n",
       "    </tr>\n",
       "    <tr>\n",
       "      <th>4</th>\n",
       "      <td>Weekly</td>\n",
       "      <td>2023-03-25</td>\n",
       "      <td>Luxury &amp; Premium &amp; Mainstream</td>\n",
       "      <td>US Softlines Analyst Interest List</td>\n",
       "      <td>Versace</td>\n",
       "      <td>Capri Holdings</td>\n",
       "      <td>United States of America</td>\n",
       "      <td>Capri Holdings</td>\n",
       "      <td>New York Stock Exchange</td>\n",
       "      <td>Metric Value</td>\n",
       "      <td>30251374.0</td>\n",
       "      <td>54.0</td>\n",
       "      <td>10.0</td>\n",
       "      <td>25681.0</td>\n",
       "      <td>5760987.0</td>\n",
       "    </tr>\n",
       "  </tbody>\n",
       "</table>\n",
       "</div>"
      ],
      "text/plain": [
       "   period period_end_date                  compset_group  \\\n",
       "0  Weekly      2019-12-07  Luxury & Premium & Mainstream   \n",
       "1  Weekly      2021-01-30  Luxury & Premium & Mainstream   \n",
       "2  Weekly      2016-05-14  Luxury & Premium & Mainstream   \n",
       "3  Weekly      2019-04-20  Luxury & Premium & Mainstream   \n",
       "4  Weekly      2023-03-25  Luxury & Premium & Mainstream   \n",
       "\n",
       "                              compset business_entity_doing_business_as_name  \\\n",
       "0                         Soft Luxury                                Versace   \n",
       "1       Luxury & Premium & Mainstream                                Versace   \n",
       "2                         Soft Luxury                                Versace   \n",
       "3       Luxury & Premium & Mainstream                                Versace   \n",
       "4  US Softlines Analyst Interest List                                Versace   \n",
       "\n",
       "  legal_entity_name     domicile_country_name  \\\n",
       "0    Capri Holdings  United States of America   \n",
       "1    Capri Holdings  United States of America   \n",
       "2    Capri Holdings  United States of America   \n",
       "3    Capri Holdings  United States of America   \n",
       "4    Capri Holdings  United States of America   \n",
       "\n",
       "  ultimate_parent_legal_entity_name    primary_exchange_name calculation_type  \\\n",
       "0                    Capri Holdings  New York Stock Exchange     Metric Value   \n",
       "1                    Capri Holdings  New York Stock Exchange     Metric Value   \n",
       "2                    Capri Holdings  New York Stock Exchange     Metric Value   \n",
       "3                    Capri Holdings  New York Stock Exchange     Metric Value   \n",
       "4                    Capri Holdings  New York Stock Exchange     Metric Value   \n",
       "\n",
       "    followers  pictures  videos  comments      likes  \n",
       "0  22066189.0      97.0    13.0   16239.0  6112205.0  \n",
       "1  24289963.0      54.0     2.0   13358.0  3189144.0  \n",
       "2   7137442.0      42.0     8.0   15894.0  2152955.0  \n",
       "3  18901125.0      73.0     9.0   26762.0  5224916.0  \n",
       "4  30251374.0      54.0    10.0   25681.0  5760987.0  "
      ]
     },
     "execution_count": 59,
     "metadata": {},
     "output_type": "execute_result"
    }
   ],
   "source": [
    "df.head()"
   ]
  },
  {
   "cell_type": "code",
   "execution_count": null,
   "metadata": {},
   "outputs": [],
   "source": []
  },
  {
   "cell_type": "markdown",
   "metadata": {},
   "source": [
    "<h1> Brand Analysis <h1/>"
   ]
  },
  {
   "cell_type": "code",
   "execution_count": 60,
   "metadata": {},
   "outputs": [
    {
     "name": "stdout",
     "output_type": "stream",
     "text": [
      "number of legal_entitys:  (706,)\n",
      "business_entity_doing_business_as_name\n",
      "All Brands         100.000000\n",
      "Missguided           8.196721\n",
      "Poshmark             8.196721\n",
      "SHEIN                8.196721\n",
      "Aeropostale          8.196721\n",
      "                      ...    \n",
      "MARVEL               0.778238\n",
      "Temu                 0.198162\n",
      "ShopGoodwill         0.187354\n",
      "Finding Unicorn      0.165736\n",
      "Pop Mart             0.165736\n",
      "Name: brand_counts, Length: 706, dtype: float64\n"
     ]
    }
   ],
   "source": [
    "print(\"number of legal_entitys: \",df.business_entity_doing_business_as_name.unique().shape)\n",
    "brand_counts = df.business_entity_doing_business_as_name.value_counts()\n",
    "brand_counts.rename(\"brand_counts\", inplace=True)\n",
    "brand_percentage= brand_counts/27755\n",
    "brand_percentage *= 100 \n",
    "print(brand_percentage)\n",
    "brand_percentage.rename(\"brand_percentage\", inplace=True)\n",
    "brands_stats = pd.concat([brand_counts, brand_percentage], axis=1)\n",
    "brands_stats.to_csv(\"data/interesting_stats/brands_stats.csv\")\n"
   ]
  },
  {
   "cell_type": "markdown",
   "metadata": {},
   "source": [
    "<h1> Legal Entity Analysis <h1/>"
   ]
  },
  {
   "cell_type": "code",
   "execution_count": 61,
   "metadata": {},
   "outputs": [
    {
     "name": "stdout",
     "output_type": "stream",
     "text": [
      "number of legal entities:  (424,)\n",
      "legal_entity_name\n",
      "LVMH Moet Hennessy Louis Vuitton SE                 4.075925\n",
      "Richemont                                           3.189675\n",
      "Swatch                                              2.787640\n",
      "Anheuser-Busch                                      1.868872\n",
      "Kering                                              1.575622\n",
      "                                                      ...   \n",
      "Aga Marvel                                          0.031926\n",
      "WhaleCo Inc                                         0.008129\n",
      "Goodwill Industries of Orange County                0.007686\n",
      "Shenzhen Seulin Culture & Entertainment Co., Ltd    0.006799\n",
      "Pop Mart International Group Ltd                    0.006799\n",
      "Name: legal_entity_counts, Length: 423, dtype: float64\n"
     ]
    }
   ],
   "source": [
    "print(\"number of legal entities: \", df.legal_entity_name.unique().shape)\n",
    "legal_entity_counts = df.legal_entity_name.value_counts()\n",
    "legal_entity_counts.rename(\"legal_entity_counts\", inplace=True)\n",
    "total_counts = legal_entity_counts.sum()\n",
    "legal_entity_percentage = legal_entity_counts/total_counts\n",
    "legal_entity_percentage *= 100\n",
    "print(legal_entity_percentage)\n",
    "legal_entity_percentage.rename(\"legal_entity_percentage\", inplace=True)\n",
    "legal_entity_stats = pd.concat([legal_entity_counts, legal_entity_percentage], axis=1)\n",
    "legal_entity_stats.to_csv(\"data/interesting_stats/legal_entity_stats.csv\")"
   ]
  },
  {
   "cell_type": "markdown",
   "metadata": {},
   "source": [
    "<h1> Domicile Country Analysis <h1/>"
   ]
  },
  {
   "cell_type": "code",
   "execution_count": 62,
   "metadata": {},
   "outputs": [
    {
     "name": "stdout",
     "output_type": "stream",
     "text": [
      "number of domicile countries:  (27,)\n",
      "domicile_country_name\n",
      "United States of America                                42.196607\n",
      "France                                                  13.555493\n",
      "Switzerland                                              9.757321\n",
      "United Kingdom of Great Britain and Northern Ireland     6.840112\n",
      "Brazil                                                   3.760012\n",
      "Hong Kong                                                3.521890\n",
      "Japan                                                    3.348750\n",
      "Germany                                                  2.930293\n",
      "Belgium                                                  2.757153\n",
      "Italy                                                    2.271315\n",
      "Spain                                                    2.182782\n",
      "Netherlands                                              1.369418\n",
      "Canada                                                   1.345431\n",
      "Sweden                                                   1.190609\n",
      "Australia                                                0.873113\n",
      "New Zealand                                              0.479078\n",
      "Denmark                                                  0.396870\n",
      ";                                                        0.222421\n",
      "Philippines                                              0.198435\n",
      "Poland                                                   0.198435\n",
      "Belgium;                                                 0.175757\n",
      "Singapore                                                0.099217\n",
      ";France                                                  0.099217\n",
      "Mexico                                                   0.089623\n",
      "China                                                    0.085043\n",
      "China;Hong Kong                                          0.055605\n",
      "Name: domicile_country_counts, dtype: float64\n"
     ]
    }
   ],
   "source": [
    "print(\"number of domicile countries: \", df.domicile_country_name.unique().shape)\n",
    "domicile_country_counts = df.domicile_country_name.value_counts()\n",
    "domicile_country_counts.rename(\"domicile_country_counts\", inplace=True)\n",
    "total_counts = domicile_country_counts.sum()\n",
    "domicile_country_percentage = domicile_country_counts/total_counts\n",
    "domicile_country_percentage *= 100\n",
    "print(domicile_country_percentage)\n",
    "domicile_country_percentage.rename(\"domicile_country_percentage\", inplace=True)\n",
    "domicile_country_stats = pd.concat([domicile_country_counts, domicile_country_percentage], axis=1)\n",
    "domicile_country_stats.to_csv(\"data/interesting_stats/domicile_country_stats.csv\")"
   ]
  },
  {
   "cell_type": "markdown",
   "metadata": {},
   "source": [
    "<h1> Ultimate Parent Legal Entity Analysis <h1/>"
   ]
  },
  {
   "cell_type": "code",
   "execution_count": 63,
   "metadata": {},
   "outputs": [
    {
     "name": "stdout",
     "output_type": "stream",
     "text": [
      "number of ultimate parent legal entities:  (402,)\n",
      "ultimate_parent_legal_entity_name\n",
      "LVMH Moet Hennessy Louis Vuitton SE                 4.075925\n",
      "Richemont                                           3.189675\n",
      "Swatch                                              2.787640\n",
      "Anheuser-Busch                                      1.868872\n",
      "Kering                                              1.575622\n",
      "                                                      ...   \n",
      "Aga Marvel                                          0.031926\n",
      "Pinduoduo                                           0.008129\n",
      "Goodwill Industries International Inc               0.007686\n",
      "Pop Mart International Group Ltd                    0.006799\n",
      "Shenzhen Seulin Culture & Entertainment Co., Ltd    0.006799\n",
      "Name: ultimate_parent_legal_entity_counts, Length: 401, dtype: float64\n"
     ]
    }
   ],
   "source": [
    "print(\"number of ultimate parent legal entities: \", df.ultimate_parent_legal_entity_name.unique().shape)\n",
    "ultimate_parent_legal_entity_counts = df.ultimate_parent_legal_entity_name.value_counts()\n",
    "ultimate_parent_legal_entity_counts.rename(\"ultimate_parent_legal_entity_counts\", inplace=True)\n",
    "total_counts = ultimate_parent_legal_entity_counts.sum()\n",
    "ultimate_parent_legal_entity_percentage = ultimate_parent_legal_entity_counts/total_counts\n",
    "ultimate_parent_legal_entity_percentage *= 100\n",
    "print(ultimate_parent_legal_entity_percentage)\n",
    "ultimate_parent_legal_entity_percentage.rename(\"ultimate_parent_legal_entity_percentage\", inplace=True)\n",
    "ultimate_parent_legal_entity_stats = pd.concat([ultimate_parent_legal_entity_counts, ultimate_parent_legal_entity_percentage], axis=1)\n",
    "ultimate_parent_legal_entity_stats.to_csv(\"data/interesting_stats/ultimate_parent_legal_entity_stats.csv\")"
   ]
  },
  {
   "cell_type": "markdown",
   "metadata": {},
   "source": [
    "<h1>stock name analysis <h1\\>"
   ]
  },
  {
   "cell_type": "code",
   "execution_count": 64,
   "metadata": {},
   "outputs": [
    {
     "name": "stdout",
     "output_type": "stream",
     "text": [
      "number of exchanges where stocks from companies are traded:  (31,)\n",
      "primary_exchange_name\n",
      "New York Stock Exchange                               28.799426\n",
      "Euronext Paris                                        13.555493\n",
      "NASDAQ Global Select                                  12.022094\n",
      "Six Swiss Exchange                                     9.757321\n",
      "London Stock Exchange                                  6.740894\n",
      "Bolsa de Valores de Sao Paulo (XBSP)                   3.760012\n",
      "Hong Kong Exchange                                     3.521890\n",
      "Tokyo Stock Exchange                                   3.348750\n",
      "Deutsche Boerse Xetra                                  2.930293\n",
      "Nyse Euronext - Euronext Brussels                      2.757153\n",
      "Borsa Italiana S.P.A.                                  2.271315\n",
      "Bolsa De Madrid                                        2.182782\n",
      "Nyse Euronext - Euronext Amsterdam                     1.369418\n",
      "Toronto Stock Exchange                                 1.345431\n",
      "Nasdaq Omx Nordic                                      1.190609\n",
      "Asx - All Markets                                      0.873113\n",
      "NASDAQ Global Market                                   0.688198\n",
      "NASDAQ - All Markets                                   0.686890\n",
      "New Zealand Exchange Ltd                               0.479078\n",
      "Omx Nordic Exchange Copenhagen A/S                     0.396870\n",
      ";                                                      0.222421\n",
      "Philippine Stock Exchange Inc.                         0.198435\n",
      "Warsaw Stock Exchange/Equities/Main Market             0.198435\n",
      "Nyse Euronext - Euronext Brussels;                     0.175757\n",
      "Singapore Exchange                                     0.099217\n",
      ";Euronext Paris                                        0.099217\n",
      "Chi-X Eruope                                           0.099217\n",
      "Bolsa Mexicana De Valores (Mexican Stock Exchange)     0.089623\n",
      "Shanghai Stock Exchange                                0.085043\n",
      "Shanghai Stock Exchange;Hong Kong Exchange             0.055605\n",
      "Name: primary_exchange_name_counts, dtype: float64\n"
     ]
    }
   ],
   "source": [
    "print(\"number of exchanges where stocks from companies are traded: \", df.primary_exchange_name.unique().shape)\n",
    "primary_exchange_name_counts = df.primary_exchange_name.value_counts()\n",
    "primary_exchange_name_counts.rename(\"primary_exchange_name_counts\", inplace=True)\n",
    "total_counts = primary_exchange_name_counts.sum()\n",
    "primary_exchange_name_percentage = primary_exchange_name_counts/total_counts\n",
    "primary_exchange_name_percentage *= 100\n",
    "print(primary_exchange_name_percentage)\n",
    "primary_exchange_name_percentage.rename(\"primary_exchange_name_percentage\", inplace=True)\n",
    "primary_exchange_name_stats = pd.concat([primary_exchange_name_counts, primary_exchange_name_percentage], axis=1)\n",
    "primary_exchange_name_stats.to_csv(\"data/interesting_stats/primary_exchange_name_stats.csv\")"
   ]
  },
  {
   "cell_type": "markdown",
   "metadata": {},
   "source": [
    "<h1> Calculation Type<h1\\>"
   ]
  },
  {
   "cell_type": "code",
   "execution_count": 65,
   "metadata": {},
   "outputs": [
    {
     "data": {
      "text/plain": [
       "array(['Metric Value'], dtype=object)"
      ]
     },
     "execution_count": 65,
     "metadata": {},
     "output_type": "execute_result"
    }
   ],
   "source": [
    "df.calculation_type.unique()"
   ]
  },
  {
   "cell_type": "markdown",
   "metadata": {},
   "source": [
    "<h1> competitive set <h1\\>"
   ]
  },
  {
   "cell_type": "code",
   "execution_count": 66,
   "metadata": {},
   "outputs": [
    {
     "name": "stdout",
     "output_type": "stream",
     "text": [
      "number of competitive sets:  (54,)\n",
      "compset\n",
      "US Softlines Analyst Interest List      16.149638\n",
      "Apparel Retail                           9.845197\n",
      "Luxury & Premium & Mainstream            9.163681\n",
      "Beauty & Boutique                        6.284990\n",
      "Global Luxury Analysts Interest List     4.150569\n",
      "Omnichannel Apparel Retail               3.556515\n",
      "Sportswear & Athleisure                  2.967431\n",
      "Food Products                            2.895872\n",
      "Beverages                                2.847172\n",
      "Ecommerce Apparel Retail                 2.784841\n",
      "Fast Fashion                             2.737561\n",
      "Soft Luxury                              2.721801\n",
      "Restaurants                              2.572294\n",
      "Hard Luxury                              2.123346\n",
      "Alcohol                                  1.897878\n",
      "Sportswear                               1.804737\n",
      "Premium Brands                           1.721536\n",
      "Footwear                                 1.665595\n",
      "Ecommerce Mainstream Apparel Retail      1.343579\n",
      "Fitness & Exercise                       1.274717\n",
      "Mid-Range Watch & Jewelry                1.267050\n",
      "Outdoor Gear                             1.095536\n",
      "Plant-Based Meat                         1.081621\n",
      "Athleisure                               1.055355\n",
      "QSR                                      1.032354\n",
      "Casual Dining                            0.958523\n",
      "Ecommerce Luxury Apparel Retail          0.815121\n",
      "Mattress                                 0.725104\n",
      "US Department Store                      0.710622\n",
      "Petcare                                  0.695145\n",
      "US Discount Store                        0.688472\n",
      "Plant-Based Dairy                        0.687620\n",
      "Building Products                        0.621315\n",
      "Mainstream Brands                        0.617623\n",
      "Snack Bars                               0.578578\n",
      "Dermatology and Orthodontics             0.522779\n",
      "Latam Apparel Retail                     0.516816\n",
      "Soda                                     0.505741\n",
      "Yoghurt                                  0.452214\n",
      "Fast Casual                              0.452214\n",
      "Sporting Goods                           0.452214\n",
      "Home Appliances                          0.427793\n",
      "Workout Gear                             0.412033\n",
      "Dermatology                              0.400958\n",
      "Energy drinks                            0.380229\n",
      "Food Retail                              0.365463\n",
      "Pasta Sauce                              0.354246\n",
      "Coffee                                   0.323010\n",
      "Toys & Collectibles                      0.316479\n",
      "Discount Retailers                       0.298163\n",
      "Sports drinks                            0.257130\n",
      "Orthodontics                             0.186423\n",
      "Entertainment                            0.172509\n",
      "Study (All Brands)                       0.064602\n",
      "Name: compset_counts, dtype: float64\n"
     ]
    }
   ],
   "source": [
    "print(\"number of competitive sets: \", df.compset.unique().shape)\n",
    "compset_counts = df.compset.value_counts()\n",
    "compset_counts.rename(\"compset_counts\", inplace=True)\n",
    "total_counts = compset_counts.sum()\n",
    "compset_percentage = compset_counts/total_counts\n",
    "compset_percentage *= 100\n",
    "print(compset_percentage)\n",
    "compset_percentage.rename(\"compset_percentage\", inplace=True)\n",
    "compset_stats = pd.concat([compset_counts, compset_percentage], axis=1)\n",
    "compset_stats.to_csv(\"data/interesting_stats/compset_stats.csv\")"
   ]
  },
  {
   "cell_type": "markdown",
   "metadata": {},
   "source": [
    "<h1> Main Competitive Set<h1\\>"
   ]
  },
  {
   "cell_type": "code",
   "execution_count": 67,
   "metadata": {},
   "outputs": [
    {
     "name": "stdout",
     "output_type": "stream",
     "text": [
      "number of main competitive sets:  (20,)\n",
      "compset_group\n",
      "Luxury & Premium & Mainstream    30.702401\n",
      "Apparel Retail                   29.755663\n",
      "Sportswear & Athleisure           8.102648\n",
      "Beauty & Boutique                 6.284990\n",
      "Food Products                     6.050151\n",
      "Beverages                         5.888149\n",
      "Restaurants                       5.338394\n",
      "Outdoor Gear                      1.353943\n",
      "Fitness & Exercise                1.274717\n",
      "Dermatology and Orthodontics      1.110160\n",
      "Mattress                          0.725104\n",
      "Petcare                           0.695145\n",
      "Building Products                 0.621315\n",
      "Sporting Goods                    0.452214\n",
      "Home Appliances                   0.427793\n",
      "Food Retail                       0.365463\n",
      "Toys & Collectibles               0.316479\n",
      "Discount Retailers                0.298163\n",
      "Entertainment                     0.172509\n",
      "Study (All Brands)                0.064602\n",
      "Name: compset_group_counts, dtype: float64\n"
     ]
    }
   ],
   "source": [
    "print(\"number of main competitive sets: \", df.compset_group.unique().shape)\n",
    "compset_group_counts = df.compset_group.value_counts()\n",
    "compset_group_counts.rename(\"compset_group_counts\", inplace=True)\n",
    "total_counts = compset_group_counts.sum()\n",
    "compset_group_percentage = compset_group_counts/total_counts\n",
    "compset_group_percentage *= 100\n",
    "print(compset_group_percentage)\n",
    "compset_group_percentage.rename(\"compset_group_percentage\", inplace=True)\n",
    "compset_group_stats = pd.concat([compset_group_counts, compset_group_percentage], axis=1)\n",
    "compset_group_stats.to_csv(\"data/interesting_stats/compset_group_stats.csv\")"
   ]
  },
  {
   "cell_type": "markdown",
   "metadata": {},
   "source": [
    "<h1> Period <h1\\>"
   ]
  },
  {
   "cell_type": "code",
   "execution_count": 68,
   "metadata": {},
   "outputs": [
    {
     "data": {
      "text/plain": [
       "array(['Weekly'], dtype=object)"
      ]
     },
     "execution_count": 68,
     "metadata": {},
     "output_type": "execute_result"
    }
   ],
   "source": [
    "df.period.unique()"
   ]
  },
  {
   "cell_type": "markdown",
   "metadata": {},
   "source": [
    "<h1> Period End Date <h1\\>"
   ]
  },
  {
   "cell_type": "code",
   "execution_count": 74,
   "metadata": {},
   "outputs": [
    {
     "name": "stdout",
     "output_type": "stream",
     "text": [
      "nr. of different end date times:  455\n"
     ]
    },
    {
     "data": {
      "text/plain": [
       "<Axes: xlabel='period_end_date'>"
      ]
     },
     "execution_count": 74,
     "metadata": {},
     "output_type": "execute_result"
    },
    {
     "data": {
      "image/png": "[encoded data removed]",
      "text/plain": [
       "<Figure size 640x480 with 1 Axes>"
      ]
     },
     "metadata": {},
     "output_type": "display_data"
    }
   ],
   "source": [
    "print(\"nr. of different end date times: \", df.period_end_date.unique().size)\n",
    "period_end_date = pd.to_datetime(df.period_end_date)\n",
    "period_end_date.dt.year.value_counts().sort_index().plot(kind=\"bar\")\n"
   ]
  },
  {
   "cell_type": "code",
   "execution_count": 75,
   "metadata": {},
   "outputs": [
    {
     "data": {
      "text/plain": [
       "<Axes: xlabel='period_end_date'>"
      ]
     },
     "execution_count": 75,
     "metadata": {},
     "output_type": "execute_result"
    },
    {
     "data": {
      "image/png": "[encoded data removed]",
      "text/plain": [
       "<Figure size 640x480 with 1 Axes>"
      ]
     },
     "metadata": {},
     "output_type": "display_data"
    }
   ],
   "source": [
    "period_end_date.dt.month.value_counts().sort_index().plot(kind=\"bar\")"
   ]
  },
  {
   "cell_type": "code",
   "execution_count": 76,
   "metadata": {},
   "outputs": [
    {
     "data": {
      "text/plain": [
       "<Axes: xlabel='period_end_date'>"
      ]
     },
     "execution_count": 76,
     "metadata": {},
     "output_type": "execute_result"
    },
    {
     "data": {
      "image/png": "[encoded data removed]",
      "text/plain": [
       "<Figure size 640x480 with 1 Axes>"
      ]
     },
     "metadata": {},
     "output_type": "display_data"
    }
   ],
   "source": [
    "period_end_date.dt.day.value_counts().sort_index().plot(kind=\"bar\")"
   ]
  },
  {
   "cell_type": "code",
   "execution_count": 77,
   "metadata": {},
   "outputs": [
    {
     "data": {
      "text/plain": [
       "0        2019-12-07\n",
       "1        2021-01-30\n",
       "2        2016-05-14\n",
       "3        2019-04-20\n",
       "4        2023-03-25\n",
       "            ...    \n",
       "704308   2017-03-18\n",
       "704309   2018-10-27\n",
       "704310   2023-08-05\n",
       "704311   2019-11-02\n",
       "704312   2023-02-25\n",
       "Name: period_end_date, Length: 704313, dtype: datetime64[ns]"
      ]
     },
     "execution_count": 77,
     "metadata": {},
     "output_type": "execute_result"
    }
   ],
   "source": [
    "period_end_date"
   ]
  },
  {
   "cell_type": "code",
   "execution_count": null,
   "metadata": {},
   "outputs": [],
   "source": []
  }
 ],
 "metadata": {
  "kernelspec": {
   "display_name": "datathon",
   "language": "python",
   "name": "python3"
  },
  "language_info": {
   "codemirror_mode": {
    "name": "ipython",
    "version": 3
   },
   "file_extension": ".py",
   "mimetype": "text/x-python",
   "name": "python",
   "nbconvert_exporter": "python",
   "pygments_lexer": "ipython3",
   "version": "3.12.3"
  }
 },
 "nbformat": 4,
 "nbformat_minor": 2
}
