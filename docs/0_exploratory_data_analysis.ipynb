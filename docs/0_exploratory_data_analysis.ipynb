{
 "cells": [
  {
   "cell_type": "code",
   "execution_count": null,
   "metadata": {},
   "outputs": [],
   "source": [
    "import numpy as np\n",
    "import matplotlib.pyplot as plt\n",
    "import pandas as pd\n"
   ]
  },
  {
   "cell_type": "code",
   "execution_count": null,
   "metadata": {},
   "outputs": [],
   "source": [
    "df = pd.read_csv(\"../data/skylab_instagram_datathon_dataset.csv\", sep=\";\")"
   ]
  },
  {
   "cell_type": "code",
   "execution_count": null,
   "metadata": {},
   "outputs": [],
   "source": [
    "df.head()"
   ]
  },
  {
   "cell_type": "markdown",
   "metadata": {},
   "source": [
    "<h1> Brand Analysis <h1/>"
   ]
  },
  {
   "cell_type": "code",
   "execution_count": null,
   "metadata": {},
   "outputs": [],
   "source": [
    "print(\"number of legal_entitys: \",df.business_entity_doing_business_as_name.unique().shape)\n",
    "brand_counts = df.business_entity_doing_business_as_name.value_counts()\n",
    "brand_counts.rename(\"brand_counts\", inplace=True)\n",
    "brand_percentage= brand_counts/27755\n",
    "brand_percentage *= 100 \n",
    "print(brand_percentage)\n",
    "brand_percentage.rename(\"brand_percentage\", inplace=True)\n",
    "brands_stats = pd.concat([brand_counts, brand_percentage], axis=1)\n",
    "# brands_stats.to_csv(\"data/interesting_stats/brands_stats.csv\")\n"
   ]
  },
  {
   "cell_type": "markdown",
   "metadata": {},
   "source": [
    "<h1> Legal Entity Analysis <h1/>"
   ]
  },
  {
   "cell_type": "code",
   "execution_count": null,
   "metadata": {},
   "outputs": [],
   "source": [
    "print(\"number of legal entities: \", df.legal_entity_name.unique().shape)\n",
    "legal_entity_counts = df.legal_entity_name.value_counts()\n",
    "legal_entity_counts.rename(\"legal_entity_counts\", inplace=True)\n",
    "total_counts = legal_entity_counts.sum()\n",
    "legal_entity_percentage = legal_entity_counts/total_counts\n",
    "legal_entity_percentage *= 100\n",
    "print(legal_entity_percentage)\n",
    "legal_entity_percentage.rename(\"legal_entity_percentage\", inplace=True)\n",
    "legal_entity_stats = pd.concat([legal_entity_counts, legal_entity_percentage], axis=1)\n",
    "# legal_entity_stats.to_csv(\"data/interesting_stats/legal_entity_stats.csv\")"
   ]
  },
  {
   "cell_type": "markdown",
   "metadata": {},
   "source": [
    "<h1> Domicile Country Analysis <h1/>"
   ]
  },
  {
   "cell_type": "code",
   "execution_count": null,
   "metadata": {},
   "outputs": [],
   "source": [
    "print(\"number of domicile countries: \", df.domicile_country_name.unique().shape)\n",
    "domicile_country_counts = df.domicile_country_name.value_counts()\n",
    "domicile_country_counts.rename(\"domicile_country_counts\", inplace=True)\n",
    "total_counts = domicile_country_counts.sum()\n",
    "domicile_country_percentage = domicile_country_counts/total_counts\n",
    "domicile_country_percentage *= 100\n",
    "print(domicile_country_percentage)\n",
    "domicile_country_percentage.rename(\"domicile_country_percentage\", inplace=True)\n",
    "domicile_country_stats = pd.concat([domicile_country_counts, domicile_country_percentage], axis=1)\n",
    "# domicile_country_stats.to_csv(\"data/interesting_stats/domicile_country_stats.csv\")"
   ]
  },
  {
   "cell_type": "markdown",
   "metadata": {},
   "source": [
    "<h1> Ultimate Parent Legal Entity Analysis <h1/>"
   ]
  },
  {
   "cell_type": "code",
   "execution_count": null,
   "metadata": {},
   "outputs": [],
   "source": [
    "print(\"number of ultimate parent legal entities: \", df.ultimate_parent_legal_entity_name.unique().shape)\n",
    "ultimate_parent_legal_entity_counts = df.ultimate_parent_legal_entity_name.value_counts()\n",
    "ultimate_parent_legal_entity_counts.rename(\"ultimate_parent_legal_entity_counts\", inplace=True)\n",
    "total_counts = ultimate_parent_legal_entity_counts.sum()\n",
    "ultimate_parent_legal_entity_percentage = ultimate_parent_legal_entity_counts/total_counts\n",
    "ultimate_parent_legal_entity_percentage *= 100\n",
    "print(ultimate_parent_legal_entity_percentage)\n",
    "ultimate_parent_legal_entity_percentage.rename(\"ultimate_parent_legal_entity_percentage\", inplace=True)\n",
    "ultimate_parent_legal_entity_stats = pd.concat([ultimate_parent_legal_entity_counts, ultimate_parent_legal_entity_percentage], axis=1)\n",
    "# ultimate_parent_legal_entity_stats.to_csv(\"data/interesting_stats/ultimate_parent_legal_entity_stats.csv\")"
   ]
  },
  {
   "cell_type": "markdown",
   "metadata": {},
   "source": [
    "<h1>stock name analysis <h1\\>"
   ]
  },
  {
   "cell_type": "code",
   "execution_count": null,
   "metadata": {},
   "outputs": [],
   "source": [
    "print(\"number of exchanges where stocks from companies are traded: \", df.primary_exchange_name.unique().shape)\n",
    "primary_exchange_name_counts = df.primary_exchange_name.value_counts()\n",
    "primary_exchange_name_counts.rename(\"primary_exchange_name_counts\", inplace=True)\n",
    "total_counts = primary_exchange_name_counts.sum()\n",
    "primary_exchange_name_percentage = primary_exchange_name_counts/total_counts\n",
    "primary_exchange_name_percentage *= 100\n",
    "print(primary_exchange_name_percentage)\n",
    "primary_exchange_name_percentage.rename(\"primary_exchange_name_percentage\", inplace=True)\n",
    "primary_exchange_name_stats = pd.concat([primary_exchange_name_counts, primary_exchange_name_percentage], axis=1)\n",
    "# primary_exchange_name_stats.to_csv(\"data/interesting_stats/primary_exchange_name_stats.csv\")"
   ]
  },
  {
   "cell_type": "markdown",
   "metadata": {},
   "source": [
    "<h1> Calculation Type<h1\\>"
   ]
  },
  {
   "cell_type": "code",
   "execution_count": null,
   "metadata": {},
   "outputs": [],
   "source": [
    "df.calculation_type.unique()"
   ]
  },
  {
   "cell_type": "markdown",
   "metadata": {},
   "source": [
    "<h1> competitive set <h1\\>"
   ]
  },
  {
   "cell_type": "code",
   "execution_count": null,
   "metadata": {},
   "outputs": [],
   "source": [
    "print(\"number of competitive sets: \", df.compset.unique().shape)\n",
    "compset_counts = df.compset.value_counts()\n",
    "compset_counts.rename(\"compset_counts\", inplace=True)\n",
    "total_counts = compset_counts.sum()\n",
    "compset_percentage = compset_counts/total_counts\n",
    "compset_percentage *= 100\n",
    "print(compset_percentage)\n",
    "compset_percentage.rename(\"compset_percentage\", inplace=True)\n",
    "compset_stats = pd.concat([compset_counts, compset_percentage], axis=1)\n",
    "# compset_stats.to_csv(\"data/interesting_stats/compset_stats.csv\")"
   ]
  },
  {
   "cell_type": "markdown",
   "metadata": {},
   "source": [
    "<h1> Main Competitive Set<h1\\>"
   ]
  },
  {
   "cell_type": "code",
   "execution_count": null,
   "metadata": {},
   "outputs": [],
   "source": [
    "print(\"number of main competitive sets: \", df.compset_group.unique().shape)\n",
    "compset_group_counts = df.compset_group.value_counts()\n",
    "compset_group_counts.rename(\"compset_group_counts\", inplace=True)\n",
    "total_counts = compset_group_counts.sum()\n",
    "compset_group_percentage = compset_group_counts/total_counts\n",
    "compset_group_percentage *= 100\n",
    "print(compset_group_percentage)\n",
    "compset_group_percentage.rename(\"compset_group_percentage\", inplace=True)\n",
    "compset_group_stats = pd.concat([compset_group_counts, compset_group_percentage], axis=1)\n",
    "# compset_group_stats.to_csv(\"data/interesting_stats/compset_group_stats.csv\")"
   ]
  },
  {
   "cell_type": "markdown",
   "metadata": {},
   "source": [
    "<h1> Period <h1\\>"
   ]
  },
  {
   "cell_type": "code",
   "execution_count": null,
   "metadata": {},
   "outputs": [],
   "source": [
    "df.period.unique()"
   ]
  },
  {
   "cell_type": "markdown",
   "metadata": {},
   "source": [
    "<h1> Period End Date <h1\\>"
   ]
  },
  {
   "cell_type": "code",
   "execution_count": null,
   "metadata": {},
   "outputs": [],
   "source": [
    "print(\"nr. of different end date times: \", df.period_end_date.unique().size)\n",
    "period_end_date = pd.to_datetime(df.period_end_date)\n",
    "period_end_date.dt.year.value_counts().sort_index().plot(kind=\"bar\")\n"
   ]
  },
  {
   "cell_type": "code",
   "execution_count": null,
   "metadata": {},
   "outputs": [],
   "source": [
    "period_end_date.dt.month.value_counts().sort_index().plot(kind=\"bar\")"
   ]
  },
  {
   "cell_type": "code",
   "execution_count": null,
   "metadata": {},
   "outputs": [],
   "source": [
    "period_end_date.dt.day.value_counts().sort_index().plot(kind=\"bar\")"
   ]
  },
  {
   "cell_type": "code",
   "execution_count": null,
   "metadata": {},
   "outputs": [],
   "source": [
    "period_end_date"
   ]
  },
  {
   "cell_type": "markdown",
   "metadata": {},
   "source": [
    "<h1> 1. Dropping columns <h1\\>"
   ]
  },
  {
   "cell_type": "markdown",
   "metadata": {},
   "source": [
    "Where only one unique value or temporarily unused column"
   ]
  },
  {
   "cell_type": "code",
   "execution_count": null,
   "metadata": {},
   "outputs": [],
   "source": [
    "df = df.drop(['period', 'primary_exchange_name', 'calculation_type', 'domicile_country_name', 'compset'], axis=1)\n",
    "\n",
    "#sort by period end date\n",
    "# df = df.sort_values(by='period_end_date', ascending=True)\n",
    "\n",
    "#just show rows with  name hering\n",
    "# df = df[df['period_end_date'] > '2020-12-31']\n"
   ]
  },
  {
   "cell_type": "markdown",
   "metadata": {},
   "source": [
    "<h1> Adding columns for posts & avg_likes_per_post <h1\\>"
   ]
  },
  {
   "cell_type": "code",
   "execution_count": null,
   "metadata": {},
   "outputs": [],
   "source": [
    "df.loc[:, \"Avg_Likes_Per_Post\"] = df[\"likes\"]/(df['videos'] + df['pictures'])"
   ]
  },
  {
   "cell_type": "markdown",
   "metadata": {},
   "source": [
    "<h2> Playing around and visualizing data<h2/>"
   ]
  },
  {
   "cell_type": "code",
   "execution_count": null,
   "metadata": {},
   "outputs": [],
   "source": [
    "import datetime as dt\n",
    "df_CK = df[df['business_entity_doing_business_as_name'].str.contains('Calvin Klein')] \n",
    "dates = df_CK[\"period_end_date\"]\n",
    "df_CK = df_CK.sort_values(by='period_end_date', ascending=True)\n",
    "df_CK.dropna\n",
    "df_CK.drop_duplicates\n",
    "# for date in dates:\n",
    "#     print(type(date))\n",
    "# x = [dt.datetime.strptime(d,'%Y-%m-%d').date() for d in dates]\n",
    "\n",
    "y = df_CK[\"Avg_Likes_Per_Post\"] \n",
    "x = range(len(y))\n",
    "\n",
    "print(x)\n",
    "\n",
    "\n",
    "\n",
    "\n",
    "# plt.gca().xaxis.set_major_formatter(mdates.DateFormatter('%Y-%m-%d'))\n",
    "# plt.gca().xaxis.set_major_locator(mdates.DayLocator(interval=10))\n",
    "# plt.plot(x,y, align='center')\n",
    "# plt.gcf().autofmt_xdate()\n",
    "# plt.show()\n",
    "\n",
    "plt.bar(x, y, align='center') # center the bars on their x-values\n",
    "plt.title('DateLocator with interval=5')\n",
    "plt.gcf().autofmt_xdate()\n",
    "plt.show()\n",
    "\n",
    "df_CK = df_CK.sort_values(by='period_end_date', ascending=True)\n",
    "df_CK.reset_index\n",
    "df_CK.head(20)"
   ]
  },
  {
   "cell_type": "code",
   "execution_count": null,
   "metadata": {},
   "outputs": [],
   "source": []
  }
 ],
 "metadata": {
  "kernelspec": {
   "display_name": "datathon",
   "language": "python",
   "name": "python3"
  },
  "language_info": {
   "codemirror_mode": {
    "name": "ipython",
    "version": 3
   },
   "file_extension": ".py",
   "mimetype": "text/x-python",
   "name": "python",
   "nbconvert_exporter": "python",
   "pygments_lexer": "ipython3",
   "version": "3.12.2"
  }
 },
 "nbformat": 4,
 "nbformat_minor": 2
}
