{
 "cells": [
  {
   "cell_type": "code",
   "execution_count": 92,
   "metadata": {},
   "outputs": [],
   "source": [
    "import pandas as pd\n",
    "import numpy as np"
   ]
  },
  {
   "cell_type": "code",
   "execution_count": null,
   "metadata": {},
   "outputs": [],
   "source": [
    "df = pd.read_csv(\"data/skylab_instagram_datathon_dataset.csv\", sep=\";\")\n",
    "df.head()"
   ]
  },
  {
   "cell_type": "markdown",
   "metadata": {},
   "source": [
    "<h3>Removing columns \"period\", \"calculation_type\" <h3\\>"
   ]
  },
  {
   "cell_type": "code",
   "execution_count": 65,
   "metadata": {},
   "outputs": [],
   "source": [
    "#removing \"period\" and \"calculation_type\" (Comment out after first run)\n",
    "df.drop(columns=[\"period\", \"calculation_type\"], inplace=True)"
   ]
  },
  {
   "cell_type": "markdown",
   "metadata": {},
   "source": [
    "<h3> Using Timedelta instead of Absolute datetime and ordering by datetime <h3>"
   ]
  },
  {
   "cell_type": "code",
   "execution_count": null,
   "metadata": {},
   "outputs": [],
   "source": [
    "#taking timedelta from first available end date instead of absolute date (COMMENT OUT AFTER FIRST RUN)\n",
    "df['period_end_date'] = pd.to_datetime(df['period_end_date'])\n",
    "min_date = df['period_end_date'].min()\n",
    "df['period_end_date'] = df['period_end_date'] - min_date\n",
    "df.to_csv(\"data/skylab_instagram_datathon_dataset.csv\", sep=\";\")\n",
    "#order by period_end_date\n",
    "df.sort_values(by=\"period_end_date\", inplace=True)\n",
    "df.drop(columns=[\"Unnamed: 0\"], inplace=True)"
   ]
  },
  {
   "cell_type": "markdown",
   "metadata": {},
   "source": [
    "<h3> where do we have missing values?<h3\\>"
   ]
  },
  {
   "cell_type": "code",
   "execution_count": null,
   "metadata": {},
   "outputs": [],
   "source": [
    "for name in df.columns:\n",
    "    if df[df[name].isnull()].shape[0] > 0:\n",
    "        print(\"number of missing values for \",name, \": \",df[df[name].isnull()].shape[0])"
   ]
  },
  {
   "cell_type": "markdown",
   "metadata": {},
   "source": [
    "<h3>Investigation of Domicile Country Name<h3\\>"
   ]
  },
  {
   "cell_type": "code",
   "execution_count": 67,
   "metadata": {},
   "outputs": [],
   "source": [
    "#COMMENT OUT AFTER FIRST RUN\n",
    "nan_domicile = df[df['domicile_country_name'].isnull()]\n",
    "nan_domicile[\"business_entity_doing_business_as_name\"].unique().size\n",
    "#check if brand has non-null domicile for each brand\n",
    "for brand in nan_domicile[\"business_entity_doing_business_as_name\"].unique():\n",
    "    known_brands = []\n",
    "    #check if brand has non-null domicile\n",
    "    if df[df[\"business_entity_doing_business_as_name\"] == brand][\"domicile_country_name\"].notnull().any():\n",
    "        known_brands.append(brand)\n",
    "        print(brand)\n",
    "#the result is empty, so we can't get the domicile from another row\n",
    "#remove domicile_country_name column\n",
    "df.drop(columns=[\"domicile_country_name\"], inplace=True)\n"
   ]
  },
  {
   "cell_type": "code",
   "execution_count": null,
   "metadata": {},
   "outputs": [],
   "source": []
  }
 ],
 "metadata": {
  "kernelspec": {
   "display_name": "datathon",
   "language": "python",
   "name": "python3"
  },
  "language_info": {
   "codemirror_mode": {
    "name": "ipython",
    "version": 3
   },
   "file_extension": ".py",
   "mimetype": "text/x-python",
   "name": "python",
   "nbconvert_exporter": "python",
   "pygments_lexer": "ipython3",
   "version": "3.12.3"
  }
 },
 "nbformat": 4,
 "nbformat_minor": 2
}
